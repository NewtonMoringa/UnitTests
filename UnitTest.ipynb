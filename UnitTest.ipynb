{
 "cells": [
  {
   "cell_type": "code",
   "execution_count": 2,
   "id": "d28cd5ef",
   "metadata": {},
   "outputs": [
    {
     "ename": "IndentationError",
     "evalue": "expected an indented block after function definition on line 18 (2489141890.py, line 21)",
     "output_type": "error",
     "traceback": [
      "\u001b[1;36m  Cell \u001b[1;32mIn[2], line 21\u001b[1;36m\u001b[0m\n\u001b[1;33m    def test_data_transformation(self):\u001b[0m\n\u001b[1;37m    ^\u001b[0m\n\u001b[1;31mIndentationError\u001b[0m\u001b[1;31m:\u001b[0m expected an indented block after function definition on line 18\n"
     ]
    }
   ],
   "source": [
    "import pandas as pd\n",
    "import unittest\n",
    "\n",
    "def data_extraction(file_path):\n",
    "    data = pd.read_csv(file_path)\n",
    "    return data\n",
    "\n",
    "def data_transformation(data):\n",
    "    data = data.drop_duplicates()\n",
    "    data['billing_amount'] = data['billing_amount'].str.replace('$', '').astype(float)\n",
    "    data['total_charges'] = data['billing_amount'] + data['tax_amount']\n",
    "    return data\n",
    "\n",
    "def data_loading(data, output_file):\n",
    "    data.to_csv(output_file, index=False)\n",
    "\n",
    "class TestDataPipeline(unittest.TestCase):\n",
    "    def test_data_extraction(self):\n",
    "        # Write your test cases for data_extraction function here\n",
    "\n",
    "    def test_data_transformation(self):\n",
    "        # Write your test cases for data_transformation function here\n",
    "\n",
    "    def test_data_loading(self):\n",
    "        # Write your test cases for data_loading function here\n",
    "\n",
    "if __name__ == '__main__':\n",
    "    unittest.main()"
   ]
  },
  {
   "cell_type": "code",
   "execution_count": null,
   "id": "b254857e",
   "metadata": {},
   "outputs": [],
   "source": []
  }
 ],
 "metadata": {
  "kernelspec": {
   "display_name": "Python 3 (ipykernel)",
   "language": "python",
   "name": "python3"
  },
  "language_info": {
   "codemirror_mode": {
    "name": "ipython",
    "version": 3
   },
   "file_extension": ".py",
   "mimetype": "text/x-python",
   "name": "python",
   "nbconvert_exporter": "python",
   "pygments_lexer": "ipython3",
   "version": "3.10.9"
  }
 },
 "nbformat": 4,
 "nbformat_minor": 5
}
